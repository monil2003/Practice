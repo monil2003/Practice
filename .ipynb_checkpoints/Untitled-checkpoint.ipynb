{
 "cells": [
  {
   "cell_type": "code",
   "execution_count": 1,
   "id": "f56ed1eb-eef8-4817-8863-e034496b3253",
   "metadata": {},
   "outputs": [
    {
     "data": {
      "text/plain": [
       "'/home/monil/Desktop/Work/SoftwareLab/LAB6'"
      ]
     },
     "execution_count": 1,
     "metadata": {},
     "output_type": "execute_result"
    }
   ],
   "source": [
    "pwd"
   ]
  },
  {
   "cell_type": "code",
   "execution_count": 2,
   "id": "19f6ac0c-3830-4e50-a10e-df458bf93de8",
   "metadata": {},
   "outputs": [
    {
     "ename": "SyntaxError",
     "evalue": "invalid syntax (2995531392.py, line 1)",
     "output_type": "error",
     "traceback": [
      "\u001b[0;36m  Cell \u001b[0;32mIn[2], line 1\u001b[0;36m\u001b[0m\n\u001b[0;31m    which git\u001b[0m\n\u001b[0m          ^\u001b[0m\n\u001b[0;31mSyntaxError\u001b[0m\u001b[0;31m:\u001b[0m invalid syntax\n"
     ]
    }
   ],
   "source": [
    "which git"
   ]
  },
  {
   "cell_type": "code",
   "execution_count": 3,
   "id": "ad97b141-8f45-4805-afee-122ebeeabb03",
   "metadata": {},
   "outputs": [
    {
     "name": "stdout",
     "output_type": "stream",
     "text": [
      "/usr/bin/git\n"
     ]
    }
   ],
   "source": [
    "!which git"
   ]
  },
  {
   "cell_type": "code",
   "execution_count": 4,
   "id": "4a7009ee-d97e-4874-abb2-d7a9dc91306c",
   "metadata": {},
   "outputs": [
    {
     "name": "stdout",
     "output_type": "stream",
     "text": [
      "git version 2.51.0\n"
     ]
    }
   ],
   "source": [
    "!git --version"
   ]
  },
  {
   "cell_type": "code",
   "execution_count": 12,
   "id": "12a95cec-7063-4e62-ac35-1eba97d76bfe",
   "metadata": {},
   "outputs": [],
   "source": [
    "!git config --global user.name \"monil2003\"\n",
    "!git config --global user.email \"25m0744@iitb.ac.in\""
   ]
  },
  {
   "cell_type": "code",
   "execution_count": 7,
   "id": "c809efe8-d189-4fcd-aa1c-5d90bf19d7c6",
   "metadata": {},
   "outputs": [],
   "source": [
    "!mkdir testgit"
   ]
  },
  {
   "cell_type": "code",
   "execution_count": 8,
   "id": "730699c7-1767-480f-8df8-231ce0bed1d7",
   "metadata": {},
   "outputs": [],
   "source": [
    "!cd testgit"
   ]
  },
  {
   "cell_type": "code",
   "execution_count": 9,
   "id": "5d7d6b89-2f08-4198-bc16-0ad91e54bcee",
   "metadata": {},
   "outputs": [
    {
     "data": {
      "text/plain": [
       "'/home/monil/Desktop/Work/SoftwareLab/LAB6'"
      ]
     },
     "execution_count": 9,
     "metadata": {},
     "output_type": "execute_result"
    }
   ],
   "source": [
    "pwd"
   ]
  },
  {
   "cell_type": "code",
   "execution_count": 10,
   "id": "1570af5e-08aa-4ce0-8329-6ce497bc047d",
   "metadata": {},
   "outputs": [],
   "source": [
    "!ls testgit"
   ]
  },
  {
   "cell_type": "code",
   "execution_count": 11,
   "id": "576c8a0a-f53e-4d4d-b88f-ee3b16e2d928",
   "metadata": {},
   "outputs": [
    {
     "name": "stdout",
     "output_type": "stream",
     "text": [
      "/home/monil/Desktop/Work/SoftwareLab/LAB6/testgit\n"
     ]
    },
    {
     "name": "stderr",
     "output_type": "stream",
     "text": [
      "/usr/lib/python3.13/site-packages/IPython/core/magics/osm.py:417: UserWarning: This is now an optional IPython functionality, setting dhist requires you to install the `pickleshare` library.\n",
      "  self.shell.db['dhist'] = compress_dhist(dhist)[-100:]\n"
     ]
    }
   ],
   "source": [
    "cd testgit"
   ]
  },
  {
   "cell_type": "code",
   "execution_count": 13,
   "id": "5013b36b-3d50-4028-8717-e8edd4357541",
   "metadata": {},
   "outputs": [
    {
     "name": "stdout",
     "output_type": "stream",
     "text": [
      "\u001b[33mhint: Using 'master' as the name for the initial branch. This default branch name\u001b[m\n",
      "\u001b[33mhint: is subject to change. To configure the initial branch name to use in all\u001b[m\n",
      "\u001b[33mhint: of your new repositories, which will suppress this warning, call:\u001b[m\n",
      "\u001b[33mhint:\u001b[m\n",
      "\u001b[33mhint: \tgit config --global init.defaultBranch <name>\u001b[m\n",
      "\u001b[33mhint:\u001b[m\n",
      "\u001b[33mhint: Names commonly chosen instead of 'master' are 'main', 'trunk' and\u001b[m\n",
      "\u001b[33mhint: 'development'. The just-created branch can be renamed via this command:\u001b[m\n",
      "\u001b[33mhint:\u001b[m\n",
      "\u001b[33mhint: \tgit branch -m <name>\u001b[m\n",
      "\u001b[33mhint:\u001b[m\n",
      "\u001b[33mhint: Disable this message with \"git config set advice.defaultBranchName false\"\u001b[m\n",
      "Initialized empty Git repository in /home/monil/Desktop/Work/SoftwareLab/LAB6/testgit/.git/\n"
     ]
    }
   ],
   "source": [
    "!git init"
   ]
  },
  {
   "cell_type": "code",
   "execution_count": 14,
   "id": "57e9b626-a0f6-415a-a4df-eaaf849faaa6",
   "metadata": {},
   "outputs": [],
   "source": [
    "!touch index.html"
   ]
  },
  {
   "cell_type": "code",
   "execution_count": 15,
   "id": "f68c8ff6-a28b-4817-bb93-bd5d021b775c",
   "metadata": {},
   "outputs": [
    {
     "name": "stdout",
     "output_type": "stream",
     "text": [
      "On branch master\n",
      "\n",
      "No commits yet\n",
      "\n",
      "Untracked files:\n",
      "  (use \"git add <file>...\" to include in what will be committed)\n",
      "\t\u001b[31mindex.html\u001b[m\n",
      "\n",
      "nothing added to commit but untracked files present (use \"git add\" to track)\n"
     ]
    }
   ],
   "source": [
    "!git status"
   ]
  },
  {
   "cell_type": "code",
   "execution_count": 16,
   "id": "ac695fbe-5c70-4754-8c22-746784189003",
   "metadata": {},
   "outputs": [],
   "source": [
    "!git add ."
   ]
  },
  {
   "cell_type": "code",
   "execution_count": 17,
   "id": "d0a77e98-05cd-4a22-bfc0-8782d3ee55b8",
   "metadata": {},
   "outputs": [
    {
     "name": "stdout",
     "output_type": "stream",
     "text": [
      "On branch master\n",
      "\n",
      "No commits yet\n",
      "\n",
      "Changes to be committed:\n",
      "  (use \"git rm --cached <file>...\" to unstage)\n",
      "\t\u001b[32mnew file:   index.html\u001b[m\n",
      "\n"
     ]
    }
   ],
   "source": [
    "!git status"
   ]
  },
  {
   "cell_type": "code",
   "execution_count": 19,
   "id": "e1754eb2-8807-4d3f-a10c-fa76e30d3eac",
   "metadata": {},
   "outputs": [],
   "source": [
    "!git branch -m main"
   ]
  },
  {
   "cell_type": "code",
   "execution_count": 20,
   "id": "a84b112d-c505-4e50-a15d-df4038f94d79",
   "metadata": {},
   "outputs": [
    {
     "name": "stdout",
     "output_type": "stream",
     "text": [
      "On branch main\n",
      "\n",
      "No commits yet\n",
      "\n",
      "Changes to be committed:\n",
      "  (use \"git rm --cached <file>...\" to unstage)\n",
      "\t\u001b[32mnew file:   index.html\u001b[m\n",
      "\n"
     ]
    }
   ],
   "source": [
    "!git status"
   ]
  },
  {
   "cell_type": "code",
   "execution_count": 21,
   "id": "a381e11f-47ca-4fd0-8536-47d817266390",
   "metadata": {},
   "outputs": [
    {
     "name": "stdout",
     "output_type": "stream",
     "text": [
      "[main (root-commit) 51dd68b] first commit\n",
      " 1 file changed, 0 insertions(+), 0 deletions(-)\n",
      " create mode 100644 index.html\n"
     ]
    }
   ],
   "source": [
    "!git commit -m \"first commit\""
   ]
  },
  {
   "cell_type": "code",
   "execution_count": 22,
   "id": "ce36015a-f423-4427-b377-6fde3a05772d",
   "metadata": {},
   "outputs": [],
   "source": [
    "!echo \"abc\" >> index.html"
   ]
  },
  {
   "cell_type": "code",
   "execution_count": 23,
   "id": "89d4dbb6-f843-4d99-ade7-9691af165c81",
   "metadata": {},
   "outputs": [
    {
     "name": "stdout",
     "output_type": "stream",
     "text": [
      "On branch main\n",
      "Changes not staged for commit:\n",
      "  (use \"git add <file>...\" to update what will be committed)\n",
      "  (use \"git restore <file>...\" to discard changes in working directory)\n",
      "\t\u001b[31mmodified:   index.html\u001b[m\n",
      "\n",
      "no changes added to commit (use \"git add\" and/or \"git commit -a\")\n"
     ]
    }
   ],
   "source": [
    "!git status"
   ]
  },
  {
   "cell_type": "code",
   "execution_count": 25,
   "id": "daa31d98-4b6e-418f-a5ca-c9f2d3d74c25",
   "metadata": {},
   "outputs": [],
   "source": [
    "!git add ."
   ]
  },
  {
   "cell_type": "code",
   "execution_count": 26,
   "id": "a2384281-7688-4ee1-8205-8299063ed790",
   "metadata": {},
   "outputs": [
    {
     "name": "stdout",
     "output_type": "stream",
     "text": [
      "[main b525531] second commit\n",
      " 1 file changed, 1 insertion(+)\n"
     ]
    }
   ],
   "source": [
    "!git commit -m \"second commit\""
   ]
  },
  {
   "cell_type": "code",
   "execution_count": 27,
   "id": "87a5890e-d7fc-46d6-8863-03d982c9eb8d",
   "metadata": {},
   "outputs": [
    {
     "name": "stdout",
     "output_type": "stream",
     "text": [
      "On branch main\n",
      "nothing to commit, working tree clean\n"
     ]
    }
   ],
   "source": [
    "!git status"
   ]
  },
  {
   "cell_type": "code",
   "execution_count": 29,
   "id": "76b47f34-5650-4811-b207-207e40cd453e",
   "metadata": {},
   "outputs": [],
   "source": [
    "!echo \"bcd\" >> index.html"
   ]
  },
  {
   "cell_type": "code",
   "execution_count": 30,
   "id": "62ce4e04-df3c-443b-8c71-e2028c72dce5",
   "metadata": {},
   "outputs": [
    {
     "name": "stdout",
     "output_type": "stream",
     "text": [
      " \u001b[31mM\u001b[m index.html\n"
     ]
    }
   ],
   "source": [
    "!git status --short"
   ]
  },
  {
   "cell_type": "code",
   "execution_count": 31,
   "id": "3b724d8a-f2e0-484e-b652-4f16f5bc521f",
   "metadata": {},
   "outputs": [
    {
     "name": "stdout",
     "output_type": "stream",
     "text": [
      "[main 8e38dd9] updated index.html with a newline\n",
      " 1 file changed, 1 insertion(+)\n"
     ]
    }
   ],
   "source": [
    "!git commit -a -m \"updated index.html with a newline\""
   ]
  },
  {
   "cell_type": "code",
   "execution_count": 32,
   "id": "89d5082d-cdd0-4d54-ab1d-ea0949ace127",
   "metadata": {},
   "outputs": [
    {
     "name": "stdout",
     "output_type": "stream",
     "text": [
      "\u001b[33mcommit 8e38dd9f6643755fbbbd773c7f9df31e1970c1b2\u001b[m\u001b[33m (\u001b[m\u001b[1;36mHEAD\u001b[m\u001b[33m -> \u001b[m\u001b[1;32mmain\u001b[m\u001b[33m)\u001b[m\n",
      "Author: monil2003 <25m0744@iitb.ac.in>\n",
      "Date:   Wed Sep 24 15:09:10 2025 +0530\n",
      "\n",
      "    updated index.html with a newline\n",
      "\n",
      "\u001b[33mcommit b52553196dad22c10bf3eea836a4eb456900eafa\u001b[m\n",
      "Author: monil2003 <25m0744@iitb.ac.in>\n",
      "Date:   Wed Sep 24 15:06:01 2025 +0530\n",
      "\n",
      "    second commit\n",
      "\n",
      "\u001b[33mcommit 51dd68bb645fad5a10d9be50eb433f995ee3a519\u001b[m\n",
      "Author: monil2003 <25m0744@iitb.ac.in>\n",
      "Date:   Wed Sep 24 14:58:25 2025 +0530\n",
      "\n",
      "    first commit\n"
     ]
    }
   ],
   "source": [
    "!git log"
   ]
  },
  {
   "cell_type": "code",
   "execution_count": 33,
   "id": "83ee2812-99e7-4981-bd81-be0b31b652fa",
   "metadata": {},
   "outputs": [
    {
     "name": "stdout",
     "output_type": "stream",
     "text": [
      "usage: git [-v | --version] [-h | --help] [-C <path>] [-c <name>=<value>]\n",
      "           [--exec-path[=<path>]] [--html-path] [--man-path] [--info-path]\n",
      "           [-p | --paginate | -P | --no-pager] [--no-replace-objects] [--no-lazy-fetch]\n",
      "           [--no-optional-locks] [--no-advice] [--bare] [--git-dir=<path>]\n",
      "           [--work-tree=<path>] [--namespace=<name>] [--config-env=<name>=<envvar>]\n",
      "           <command> [<args>]\n",
      "\n",
      "These are common Git commands used in various situations:\n",
      "\n",
      "start a working area (see also: git help tutorial)\n",
      "   clone      Clone a repository into a new directory\n",
      "   init       Create an empty Git repository or reinitialize an existing one\n",
      "\n",
      "work on the current change (see also: git help everyday)\n",
      "   add        Add file contents to the index\n",
      "   mv         Move or rename a file, a directory, or a symlink\n",
      "   restore    Restore working tree files\n",
      "   rm         Remove files from the working tree and from the index\n",
      "\n",
      "examine the history and state (see also: git help revisions)\n",
      "   bisect     Use binary search to find the commit that introduced a bug\n",
      "   diff       Show changes between commits, commit and working tree, etc\n",
      "   grep       Print lines matching a pattern\n",
      "   log        Show commit logs\n",
      "   show       Show various types of objects\n",
      "   status     Show the working tree status\n",
      "\n",
      "grow, mark and tweak your common history\n",
      "   backfill   Download missing objects in a partial clone\n",
      "   branch     List, create, or delete branches\n",
      "   commit     Record changes to the repository\n",
      "   merge      Join two or more development histories together\n",
      "   rebase     Reapply commits on top of another base tip\n",
      "   reset      Reset current HEAD to the specified state\n",
      "   switch     Switch branches\n",
      "   tag        Create, list, delete or verify a tag object signed with GPG\n",
      "\n",
      "collaborate (see also: git help workflows)\n",
      "   fetch      Download objects and refs from another repository\n",
      "   pull       Fetch from and integrate with another repository or a local branch\n",
      "   push       Update remote refs along with associated objects\n",
      "\n",
      "'git help -a' and 'git help -g' list available subcommands and some\n",
      "concept guides. See 'git help <command>' or 'git help <concept>'\n",
      "to read about a specific subcommand or concept.\n",
      "See 'git help git' for an overview of the system.\n"
     ]
    }
   ],
   "source": [
    "!git help"
   ]
  },
  {
   "cell_type": "code",
   "execution_count": null,
   "id": "344bc4a6-e912-4f2b-88f2-274b389647bd",
   "metadata": {},
   "outputs": [],
   "source": [
    "!git help checkout"
   ]
  },
  {
   "cell_type": "code",
   "execution_count": 35,
   "id": "96983bab-1d20-405c-a82a-188d8d379c9c",
   "metadata": {},
   "outputs": [
    {
     "name": "stdout",
     "output_type": "stream",
     "text": [
      "Updated 1 path from 0a5568b\n"
     ]
    }
   ],
   "source": [
    "!git checkout 51dd68bb645fad5a10d9be50eb433f995ee3a519 index.html"
   ]
  },
  {
   "cell_type": "code",
   "execution_count": 36,
   "id": "7b876dca-0345-4466-b818-cc9f7dc67f39",
   "metadata": {},
   "outputs": [
    {
     "name": "stdout",
     "output_type": "stream",
     "text": [
      "On branch main\n",
      "Changes to be committed:\n",
      "  (use \"git restore --staged <file>...\" to unstage)\n",
      "\t\u001b[32mmodified:   index.html\u001b[m\n",
      "\n"
     ]
    }
   ],
   "source": [
    "!git status"
   ]
  },
  {
   "cell_type": "code",
   "execution_count": 37,
   "id": "125389f4-a799-46de-b5d3-42ddf173957d",
   "metadata": {},
   "outputs": [
    {
     "name": "stdout",
     "output_type": "stream",
     "text": [
      "\u001b[33mcommit 8e38dd9f6643755fbbbd773c7f9df31e1970c1b2\u001b[m\u001b[33m (\u001b[m\u001b[1;36mHEAD\u001b[m\u001b[33m -> \u001b[m\u001b[1;32mmain\u001b[m\u001b[33m)\u001b[m\n",
      "Author: monil2003 <25m0744@iitb.ac.in>\n",
      "Date:   Wed Sep 24 15:09:10 2025 +0530\n",
      "\n",
      "    updated index.html with a newline\n",
      "\n",
      "\u001b[33mcommit b52553196dad22c10bf3eea836a4eb456900eafa\u001b[m\n",
      "Author: monil2003 <25m0744@iitb.ac.in>\n",
      "Date:   Wed Sep 24 15:06:01 2025 +0530\n",
      "\n",
      "    second commit\n",
      "\n",
      "\u001b[33mcommit 51dd68bb645fad5a10d9be50eb433f995ee3a519\u001b[m\n",
      "Author: monil2003 <25m0744@iitb.ac.in>\n",
      "Date:   Wed Sep 24 14:58:25 2025 +0530\n",
      "\n",
      "    first commit\n"
     ]
    }
   ],
   "source": [
    "!git log"
   ]
  },
  {
   "cell_type": "code",
   "execution_count": 38,
   "id": "38b977e1-169d-458d-99d3-7d41c1a36a34",
   "metadata": {},
   "outputs": [],
   "source": [
    "!git tag v0 51dd68bb645fad5a10d9be50eb433f995ee3a519"
   ]
  },
  {
   "cell_type": "code",
   "execution_count": 39,
   "id": "2582f0c0-fce6-4622-bf26-1a681ecb4df6",
   "metadata": {},
   "outputs": [
    {
     "name": "stdout",
     "output_type": "stream",
     "text": [
      "Note: switching to 'v0'.\n",
      "\n",
      "You are in 'detached HEAD' state. You can look around, make experimental\n",
      "changes and commit them, and you can discard any commits you make in this\n",
      "state without impacting any branches by switching back to a branch.\n",
      "\n",
      "If you want to create a new branch to retain commits you create, you may\n",
      "do so (now or later) by using -c with the switch command. Example:\n",
      "\n",
      "  git switch -c <new-branch-name>\n",
      "\n",
      "Or undo this operation with:\n",
      "\n",
      "  git switch -\n",
      "\n",
      "Turn off this advice by setting config variable advice.detachedHead to false\n",
      "\n",
      "HEAD is now at 51dd68b first commit\n"
     ]
    }
   ],
   "source": [
    "!git checkout v0"
   ]
  },
  {
   "cell_type": "code",
   "execution_count": 40,
   "id": "77274385-211f-455e-a291-8d5d5dd3b5e0",
   "metadata": {},
   "outputs": [
    {
     "name": "stdout",
     "output_type": "stream",
     "text": [
      "\u001b[31mHEAD detached at \u001b[mv0\n",
      "nothing to commit, working tree clean\n"
     ]
    }
   ],
   "source": [
    "!git status"
   ]
  },
  {
   "cell_type": "code",
   "execution_count": 41,
   "id": "dbdfdfb6-5d36-4def-81c8-382a2205dc14",
   "metadata": {},
   "outputs": [],
   "source": [
    "!git add ."
   ]
  },
  {
   "cell_type": "code",
   "execution_count": 43,
   "id": "f022eed5-521b-405d-b6ed-8d50e7ca879e",
   "metadata": {},
   "outputs": [
    {
     "name": "stdout",
     "output_type": "stream",
     "text": [
      "\u001b[31mHEAD detached at \u001b[mv0\n",
      "nothing to commit, working tree clean\n"
     ]
    }
   ],
   "source": [
    "!git commit -m \"final commit\""
   ]
  },
  {
   "cell_type": "code",
   "execution_count": 44,
   "id": "b6a72c6d-3ab9-4149-86dd-46216667df43",
   "metadata": {},
   "outputs": [
    {
     "name": "stdout",
     "output_type": "stream",
     "text": [
      "\u001b[31mHEAD detached at \u001b[mv0\n",
      "nothing to commit, working tree clean\n"
     ]
    }
   ],
   "source": [
    "!git status"
   ]
  },
  {
   "cell_type": "code",
   "execution_count": 45,
   "id": "6bee52df-0759-42ec-924e-8144bb2929a3",
   "metadata": {},
   "outputs": [
    {
     "name": "stdout",
     "output_type": "stream",
     "text": [
      "\u001b[33mcommit 51dd68bb645fad5a10d9be50eb433f995ee3a519\u001b[m\u001b[33m (\u001b[m\u001b[1;36mHEAD\u001b[m\u001b[33m, \u001b[m\u001b[1;33mtag: \u001b[m\u001b[1;33mv0\u001b[m\u001b[33m)\u001b[m\n",
      "Author: monil2003 <25m0744@iitb.ac.in>\n",
      "Date:   Wed Sep 24 14:58:25 2025 +0530\n",
      "\n",
      "    first commit\n"
     ]
    }
   ],
   "source": [
    "!git log"
   ]
  },
  {
   "cell_type": "code",
   "execution_count": 47,
   "id": "f8044892-92db-43ae-b666-ebc226c7e21a",
   "metadata": {},
   "outputs": [],
   "source": [
    "!echo \"fgh\">>index.html"
   ]
  },
  {
   "cell_type": "code",
   "execution_count": 48,
   "id": "d4e364d9-1f19-491f-9532-3b14f1201fc5",
   "metadata": {},
   "outputs": [
    {
     "name": "stdout",
     "output_type": "stream",
     "text": [
      "\u001b[31mHEAD detached at \u001b[mv0\n",
      "Changes not staged for commit:\n",
      "  (use \"git add <file>...\" to update what will be committed)\n",
      "  (use \"git restore <file>...\" to discard changes in working directory)\n",
      "\t\u001b[31mmodified:   index.html\u001b[m\n",
      "\n",
      "no changes added to commit (use \"git add\" and/or \"git commit -a\")\n"
     ]
    }
   ],
   "source": [
    "!git status"
   ]
  },
  {
   "cell_type": "code",
   "execution_count": 49,
   "id": "f96113d8-146c-4405-a8aa-6ac9fa993818",
   "metadata": {},
   "outputs": [],
   "source": [
    "!git add ."
   ]
  },
  {
   "cell_type": "code",
   "execution_count": 50,
   "id": "7303fdc4-7752-4d42-bce1-c8e77d127269",
   "metadata": {},
   "outputs": [
    {
     "name": "stdout",
     "output_type": "stream",
     "text": [
      "[detached HEAD 329a425] final commit\n",
      " 1 file changed, 1 insertion(+)\n"
     ]
    }
   ],
   "source": [
    "!git commit -m \"final commit\""
   ]
  },
  {
   "cell_type": "code",
   "execution_count": 51,
   "id": "ae0b506d-a695-4541-9321-91507a3c182c",
   "metadata": {},
   "outputs": [
    {
     "name": "stdout",
     "output_type": "stream",
     "text": [
      "\u001b[33mcommit 329a42532d87c989c6b0d100c28cbfd6159e392b\u001b[m\u001b[33m (\u001b[m\u001b[1;36mHEAD\u001b[m\u001b[33m)\u001b[m\n",
      "Author: monil2003 <25m0744@iitb.ac.in>\n",
      "Date:   Wed Sep 24 15:31:47 2025 +0530\n",
      "\n",
      "    final commit\n",
      "\n",
      "\u001b[33mcommit 51dd68bb645fad5a10d9be50eb433f995ee3a519\u001b[m\u001b[33m (\u001b[m\u001b[1;33mtag: \u001b[m\u001b[1;33mv0\u001b[m\u001b[33m)\u001b[m\n",
      "Author: monil2003 <25m0744@iitb.ac.in>\n",
      "Date:   Wed Sep 24 14:58:25 2025 +0530\n",
      "\n",
      "    first commit\n"
     ]
    }
   ],
   "source": [
    "!git log"
   ]
  },
  {
   "cell_type": "code",
   "execution_count": null,
   "id": "c008b6a5-8873-4ef5-8bef-fe2d0763019f",
   "metadata": {},
   "outputs": [],
   "source": []
  }
 ],
 "metadata": {
  "kernelspec": {
   "display_name": "Python 3 (ipykernel)",
   "language": "python",
   "name": "python3"
  },
  "language_info": {
   "codemirror_mode": {
    "name": "ipython",
    "version": 3
   },
   "file_extension": ".py",
   "mimetype": "text/x-python",
   "name": "python",
   "nbconvert_exporter": "python",
   "pygments_lexer": "ipython3",
   "version": "3.13.7"
  }
 },
 "nbformat": 4,
 "nbformat_minor": 5
}
